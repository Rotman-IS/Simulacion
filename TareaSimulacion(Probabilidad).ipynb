{
 "cells": [
  {
   "cell_type": "markdown",
   "metadata": {},
   "source": [
    "# Tarea de Simulacion  \n",
    "\n",
    "### Simular el lanzamiento de dos dados y conocer la suma de los mismos.\n",
    "\n",
    "Generar dos números pseudoaleatorios(los dados), utilizar dos librerias diferentes (1 - 6).   \n",
    "Sumar estos números y genrar la siguiente tabla: \n",
    "\n",
    "SUMA | FRECUENCIA | PROBABILIDAD|\n",
    ":---:| :--------: | :---------: |\n",
    "  2  |      3     |    0.3      |   \n",
    "  \n",
    "Generar 100, 1000, 10000 eventos de lanzamiento de los dados.\n",
    "\n",
    "\n",
    "***Simulacion con un total de 100 iteraciones:***"
   ]
  },
  {
   "cell_type": "code",
   "execution_count": 19,
   "metadata": {},
   "outputs": [
    {
     "name": "stdout",
     "output_type": "stream",
     "text": [
      "SUMA \t FRECUENCIA \t PROBABILIDAD\n",
      "2 \t\t 3 \t 0.03\n",
      "3 \t\t 7 \t 0.07\n",
      "4 \t\t 8 \t 0.08\n",
      "5 \t\t 11 \t 0.11\n",
      "6 \t\t 16 \t 0.16\n",
      "7 \t\t 18 \t 0.18\n",
      "8 \t\t 12 \t 0.12\n",
      "9 \t\t 7 \t 0.07\n",
      "10 \t\t 9 \t 0.09\n",
      "11 \t\t 4 \t 0.04\n",
      "12 \t\t 5 \t 0.05\n"
     ]
    }
   ],
   "source": [
    "import numpy as np\n",
    "import random as rd\n",
    "\n",
    "iteraciones = 100\n",
    "d1 = []\n",
    "d2 = []\n",
    "\n",
    "res = []\n",
    "\n",
    "for i in range(0,iteraciones):\n",
    "    \n",
    "    d1.append(rd.randint(1,6))\n",
    "    d2.append(np.random.randint(1,7))\n",
    "    res.append(d1[i] + d2[i])\n",
    "\n",
    "print(\"SUMA \\t FRECUENCIA \\t PROBABILIDAD\")\n",
    "\n",
    "for j in range(2,13):\n",
    "    frecuencia = res.count(j)\n",
    "    probabilidad = frecuencia / iteraciones\n",
    "    print(j ,\"\\t\\t\", frecuencia ,\"\\t\", probabilidad)"
   ]
  },
  {
   "cell_type": "markdown",
   "metadata": {},
   "source": [
    "***Simulacion con un total de 1000 iteraciones:***"
   ]
  },
  {
   "cell_type": "code",
   "execution_count": 20,
   "metadata": {},
   "outputs": [
    {
     "name": "stdout",
     "output_type": "stream",
     "text": [
      "SUMA \t FRECUENCIA \t PROBABILIDAD\n",
      "2 \t\t 24 \t 0.024\n",
      "3 \t\t 56 \t 0.056\n",
      "4 \t\t 82 \t 0.082\n",
      "5 \t\t 108 \t 0.108\n",
      "6 \t\t 146 \t 0.146\n",
      "7 \t\t 169 \t 0.169\n",
      "8 \t\t 154 \t 0.154\n",
      "9 \t\t 111 \t 0.111\n",
      "10 \t\t 81 \t 0.081\n",
      "11 \t\t 51 \t 0.051\n",
      "12 \t\t 18 \t 0.018\n"
     ]
    }
   ],
   "source": [
    "import numpy as np\n",
    "import random as rd\n",
    "\n",
    "iteraciones = 1000\n",
    "d1 = []\n",
    "d2 = []\n",
    "\n",
    "res = []\n",
    "\n",
    "for i in range(0,iteraciones):\n",
    "    \n",
    "    d1.append(rd.randint(1,6))\n",
    "    d2.append(np.random.randint(1,7))\n",
    "    res.append(d1[i] + d2[i])\n",
    "\n",
    "print(\"SUMA \\t FRECUENCIA \\t PROBABILIDAD\")\n",
    "\n",
    "for j in range(2,13):\n",
    "    frecuencia = res.count(j)\n",
    "    probabilidad = frecuencia / iteraciones\n",
    "    print(j ,\"\\t\\t\", frecuencia ,\"\\t\", probabilidad)"
   ]
  },
  {
   "cell_type": "markdown",
   "metadata": {},
   "source": [
    "***Simulacion con un total de 10000 iteraciones:***"
   ]
  },
  {
   "cell_type": "code",
   "execution_count": 21,
   "metadata": {},
   "outputs": [
    {
     "name": "stdout",
     "output_type": "stream",
     "text": [
      "SUMA \t FRECUENCIA \t PROBABILIDAD\n",
      "2 \t\t 260 \t 0.026\n",
      "3 \t\t 504 \t 0.0504\n",
      "4 \t\t 850 \t 0.085\n",
      "5 \t\t 1112 \t 0.1112\n",
      "6 \t\t 1335 \t 0.1335\n",
      "7 \t\t 1680 \t 0.168\n",
      "8 \t\t 1395 \t 0.1395\n",
      "9 \t\t 1182 \t 0.1182\n",
      "10 \t\t 853 \t 0.0853\n",
      "11 \t\t 582 \t 0.0582\n",
      "12 \t\t 247 \t 0.0247\n"
     ]
    }
   ],
   "source": [
    "import numpy as np\n",
    "import random as rd\n",
    "\n",
    "iteraciones = 10000\n",
    "d1 = []\n",
    "d2 = []\n",
    "\n",
    "res = []\n",
    "\n",
    "for i in range(0,iteraciones):\n",
    "    \n",
    "    d1.append(rd.randint(1,6))\n",
    "    d2.append(np.random.randint(1,7))\n",
    "    res.append(d1[i] + d2[i])\n",
    "\n",
    "print(\"SUMA \\t FRECUENCIA \\t PROBABILIDAD\")\n",
    "\n",
    "for j in range(2,13):\n",
    "    frecuencia = res.count(j)\n",
    "    probabilidad = frecuencia / iteraciones\n",
    "    print(j ,\"\\t\\t\", frecuencia ,\"\\t\", probabilidad)"
   ]
  },
  {
   "cell_type": "markdown",
   "metadata": {},
   "source": [
    "## Concluciones\n",
    "\n",
    "En conclucion mediante la siguiente practica pude observar como al generar diferentes iteraciones de lanzamientos de los dados, se obtiene que en los tres casos la probabilidad mas alta de suma es entre los números intermedios como 5, 6, 7, 8 y 9 ya que en las tablas se ve que son los que mayor frecuencia poseen, esto se debe a que tienen mayur combinacion de caras del dado para sumarse. "
   ]
  },
  {
   "cell_type": "code",
   "execution_count": null,
   "metadata": {},
   "outputs": [],
   "source": []
  }
 ],
 "metadata": {
  "kernelspec": {
   "display_name": "Python 3",
   "language": "python",
   "name": "python3"
  },
  "language_info": {
   "codemirror_mode": {
    "name": "ipython",
    "version": 3
   },
   "file_extension": ".py",
   "mimetype": "text/x-python",
   "name": "python",
   "nbconvert_exporter": "python",
   "pygments_lexer": "ipython3",
   "version": "3.7.3"
  }
 },
 "nbformat": 4,
 "nbformat_minor": 2
}
