{
 "cells": [
  {
   "attachments": {},
   "cell_type": "markdown",
   "metadata": {},
   "source": [
    "# Método de los Congruencias Lineales.\n",
    "Fueron introducidos en el año 1951 por Lehmer y hoy en día son ampliamente utilizados. El algoritmo que se emplea para generar números pseudoaleatorios con esta técnica se detalla a continuación:\n",
    "* 1. Se escoge un número de cuatro dígitos $x_0$(semilla).\n",
    "\n",
    "* 2. Emplear la fórmula recursiva que permite calcular la suseción de números.  \n",
    "**$x_n = (a * x_n-1 + b) mod.m$**.\n",
    "\n",
    "* 3. Se genera el número pseudo-aleatorio como:\n",
    "$u_i\\:=\\:\\frac{x_i}{m}$\n",
    " \n",
    "  \n",
    "\n",
    "## Implementación del algoritmo en Python.  \n",
    "### Paso 1:  \n",
    "Solicitamos que se ingrese los datos(Semilla, Digitos, Cantidad de números) por teclado."
   ]
  },
  {
   "cell_type": "code",
   "execution_count": 22,
   "metadata": {},
   "outputs": [
    {
     "name": "stdout",
     "output_type": "stream",
     "text": [
      "Semilla:  1\n",
      "Ingrese la cantidad de numeros pseudoaleatorios:  10\n"
     ]
    }
   ],
   "source": [
    "import numpy as np\n",
    "\n",
    "semilla = int((input(\"Semilla:  \")))\n",
    "rango = int((input(\"Ingrese la cantidad de numeros pseudoaleatorios:  \")))"
   ]
  },
  {
   "cell_type": "markdown",
   "metadata": {},
   "source": [
    "### Paso 2:\n",
    "Generamos el algoritmo para generar los números pseudoaleatorios."
   ]
  },
  {
   "cell_type": "code",
   "execution_count": 23,
   "metadata": {},
   "outputs": [
    {
     "name": "stdout",
     "output_type": "stream",
     "text": [
      "Iteraciones\t Xn\t UI\n",
      "0 \t\t 8 \t 0.4211\n",
      "1 \t\t 10 \t 0.5263\n",
      "2 \t\t 16 \t 0.8421\n",
      "3 \t\t 15 \t 0.7895\n",
      "4 \t\t 12 \t 0.6316\n",
      "5 \t\t 3 \t 0.1579\n",
      "6 \t\t 14 \t 0.7368\n",
      "7 \t\t 9 \t 0.4737\n",
      "8 \t\t 13 \t 0.6842\n",
      "9 \t\t 6 \t 0.3158\n"
     ]
    }
   ],
   "source": [
    "a = 3\n",
    "b = 5\n",
    "m = 19\n",
    "\n",
    "print('Iteraciones\\t Xn\\t UI')\n",
    "for n in range(rango):\n",
    "    xn = (a * semilla + b) % m\n",
    "    semilla = xn \n",
    "    div = semilla / m\n",
    "    print(n,'\\t\\t',semilla,'\\t',\"{0:.4f}\".format(div))\n",
    "\n",
    "\n"
   ]
  },
  {
   "cell_type": "markdown",
   "metadata": {},
   "source": [
    "En el codigo anterio podemos observar como se genera un total de 10 numeros pseudoaleatorios utilizando el algoritmo de  \n",
    "congruencias lineales.  \n",
    "## Concluciones \n",
    "En conclucion se puede observar que la implementacion del algoritmo del Método de congruencias lineales es muy facil de implementar, ya que solo es necesario realizar unas pocas acciones matematicas. Tambien podriamos decir que esta practica nos  \n",
    "nos ayuda entender el funcionamiento de como se generan los números pseudoaleatorios al usar las diferentes librerias existentes en los diferentes lenguajes de programacion.\n"
   ]
  },
  {
   "cell_type": "code",
   "execution_count": null,
   "metadata": {},
   "outputs": [],
   "source": []
  }
 ],
 "metadata": {
  "kernelspec": {
   "display_name": "Python 3",
   "language": "python",
   "name": "python3"
  },
  "language_info": {
   "codemirror_mode": {
    "name": "ipython",
    "version": 3
   },
   "file_extension": ".py",
   "mimetype": "text/x-python",
   "name": "python",
   "nbconvert_exporter": "python",
   "pygments_lexer": "ipython3",
   "version": "3.7.7"
  }
 },
 "nbformat": 4,
 "nbformat_minor": 4
}
