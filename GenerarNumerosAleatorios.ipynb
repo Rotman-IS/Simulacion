{
 "cells": [
  {
   "cell_type": "markdown",
   "metadata": {},
   "source": [
    "# Método de los Cuadrados Medios.\n",
    "Uno de los primeros generadores fue el denominado método de los cuadrados medios propuesto por Von Neumann (1946). Con este procedimiento se generan números pseudoaleatorios de 4 dígitos de la siguiente forma:\n",
    "* 1. Se escoge un número de cuatro dígitos $x_0$(semilla).\n",
    "\n",
    "* 2. Se eleva al cuadrado ($x_0^2$) y se toman los cuatro dígitos centrales ($x_1$).\n",
    "\n",
    "* 3. Se genera el número pseudo-aleatorio como:\n",
    "$u_1\\:=\\:\\frac{x_1}{10^4}$\n",
    " \n",
    "\n",
    "* 4. Volver al paso 2 y repetir el proceso.  \n",
    "\n",
    "## Implementación del algoritmo en Python.  \n",
    "### Paso 1:  \n",
    "Solicitamos que se ingrese los datos(Semilla, Digitos, Cantidad de números) por teclado."
   ]
  },
  {
   "cell_type": "code",
   "execution_count": 83,
   "metadata": {},
   "outputs": [
    {
     "name": "stdout",
     "output_type": "stream",
     "text": [
      "Semilla:  7543\n",
      "Numero de Digitos:  4\n",
      "Ingrese la cantidad de numeros pseudoaleatorios:  10\n"
     ]
    }
   ],
   "source": [
    "import numpy as np\n",
    "\n",
    "semilla = input(\"Semilla:  \")\n",
    "digitos = int((input(\"Numero de Digitos:  \"))) #Recomencadion mayor 3\n",
    "rango = int((input(\"Ingrese la cantidad de numeros pseudoaleatorios:  \")))"
   ]
  },
  {
   "cell_type": "markdown",
   "metadata": {},
   "source": [
    "### Paso 2:\n",
    "Generamos el algoritmo para generar los números pseudoaleatorios."
   ]
  },
  {
   "cell_type": "code",
   "execution_count": 120,
   "metadata": {},
   "outputs": [
    {
     "name": "stdout",
     "output_type": "stream",
     "text": [
      "Iteraciones\t Xn\t Xn*Xn\t\t UI\t Rn\n",
      "0 \t\t 8968 \t 56896849 \t 8968 \t 0.8968\n",
      "1 \t\t 4250 \t 80425024 \t 4250 \t 0.425\n",
      "2 \t\t 625 \t 18062500 \t 0625 \t 0.0625\n",
      "3 \t\t 9062 \t 390625 \t 9062 \t 0.9062\n",
      "4 \t\t 1198 \t 82119844 \t 1198 \t 0.1198\n",
      "5 \t\t 4352 \t 1435204 \t 4352 \t 0.4352\n",
      "6 \t\t 9399 \t 18939904 \t 9399 \t 0.9399\n",
      "7 \t\t 3412 \t 88341201 \t 3412 \t 0.3412\n",
      "8 \t\t 6417 \t 11641744 \t 6417 \t 0.6417\n",
      "9 \t\t 1778 \t 41177889 \t 1778 \t 0.1778\n"
     ]
    }
   ],
   "source": [
    "\n",
    "tamanio = len(semilla)\n",
    "numS = int(semilla)\n",
    "numero = '1'\n",
    "divisor = int(numero.ljust(digitos+1,\"0\"))\n",
    "\n",
    "\n",
    "print('Iteraciones\\t Xn\\t Xn*Xn\\t\\t UI\\t Rn')\n",
    "for n in range(rango):\n",
    "    num1 = np.power(numS, 2)\n",
    "    snum = str(num1)\n",
    "    tamanio1 = len(snum)\n",
    "    firstC = int((tamanio1 - tamanio)/2)\n",
    "    numPseudo = snum[firstC:firstC+tamanio]\n",
    "    numS = int(numPseudo)\n",
    "    numD = float(numS/divisor)\n",
    "    \n",
    "    print(n,'\\t\\t',numS,'\\t',num1,'\\t',numPseudo,'\\t',numD)\n",
    "\n",
    "\n"
   ]
  },
  {
   "cell_type": "markdown",
   "metadata": {},
   "source": [
    "En el codigo anterio podemos observar como se genera un total de 10 numeros pseudoaleatorios utilizando el algoritmo de  \n",
    "cuadrados medios.  \n",
    "## Concluciones \n",
    "En conclucion se puede observar que la implementacion del algoritmo del Método de cuadrados medios es muy facil ya que solo  \n",
    "es necesario realizar unas pocas acciones matematicas de suma, resta y potencias. Tambien podriamos decir que esta practica nos  \n",
    "nos ayuda entender el funcionamiento de como se generan los números pseudoaleatorios al usar las diferentes librerias existentes en los diferentes lenguajes de programacion.\n"
   ]
  },
  {
   "cell_type": "code",
   "execution_count": null,
   "metadata": {},
   "outputs": [],
   "source": []
  }
 ],
 "metadata": {
  "kernelspec": {
   "display_name": "Python 3",
   "language": "python",
   "name": "python3"
  },
  "language_info": {
   "codemirror_mode": {
    "name": "ipython",
    "version": 3
   },
   "file_extension": ".py",
   "mimetype": "text/x-python",
   "name": "python",
   "nbconvert_exporter": "python",
   "pygments_lexer": "ipython3",
   "version": "3.7.7"
  }
 },
 "nbformat": 4,
 "nbformat_minor": 4
}
